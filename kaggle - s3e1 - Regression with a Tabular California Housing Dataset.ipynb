{
 "cells": [
  {
   "cell_type": "code",
   "execution_count": 177,
   "id": "initial_id",
   "metadata": {
    "collapsed": true,
    "ExecuteTime": {
     "end_time": "2024-03-22T04:11:29.191220900Z",
     "start_time": "2024-03-22T04:11:29.144125Z"
    }
   },
   "outputs": [],
   "source": [
    "import matplotlib.pyplot as plt\n",
    "import numpy as np\n",
    "import pandas as pd\n",
    "import seaborn as sns"
   ]
  },
  {
   "cell_type": "code",
   "outputs": [
    {
     "data": {
      "text/plain": "    MedInc  HouseAge  AveRooms  AveBedrms  Population  AveOccup  Latitude  \\\nid                                                                          \n0   2.3859      15.0  3.827160   1.112100      1280.0  2.486989     34.60   \n1   3.7188      17.0  6.013373   1.054217      1504.0  3.813084     38.69   \n2   4.7750      27.0  6.535604   1.103175      1061.0  2.464602     34.71   \n3   2.4138      16.0  3.350203   0.965432      1255.0  2.089286     32.66   \n4   3.7500      52.0  4.284404   1.069246      1793.0  1.604790     37.80   \n\n    Longitude  MedHouseVal  \nid                          \n0     -120.12        0.980  \n1     -121.22        0.946  \n2     -120.45        1.576  \n3     -117.09        1.336  \n4     -122.41        4.500  ",
      "text/html": "<div>\n<style scoped>\n    .dataframe tbody tr th:only-of-type {\n        vertical-align: middle;\n    }\n\n    .dataframe tbody tr th {\n        vertical-align: top;\n    }\n\n    .dataframe thead th {\n        text-align: right;\n    }\n</style>\n<table border=\"1\" class=\"dataframe\">\n  <thead>\n    <tr style=\"text-align: right;\">\n      <th></th>\n      <th>MedInc</th>\n      <th>HouseAge</th>\n      <th>AveRooms</th>\n      <th>AveBedrms</th>\n      <th>Population</th>\n      <th>AveOccup</th>\n      <th>Latitude</th>\n      <th>Longitude</th>\n      <th>MedHouseVal</th>\n    </tr>\n    <tr>\n      <th>id</th>\n      <th></th>\n      <th></th>\n      <th></th>\n      <th></th>\n      <th></th>\n      <th></th>\n      <th></th>\n      <th></th>\n      <th></th>\n    </tr>\n  </thead>\n  <tbody>\n    <tr>\n      <th>0</th>\n      <td>2.3859</td>\n      <td>15.0</td>\n      <td>3.827160</td>\n      <td>1.112100</td>\n      <td>1280.0</td>\n      <td>2.486989</td>\n      <td>34.60</td>\n      <td>-120.12</td>\n      <td>0.980</td>\n    </tr>\n    <tr>\n      <th>1</th>\n      <td>3.7188</td>\n      <td>17.0</td>\n      <td>6.013373</td>\n      <td>1.054217</td>\n      <td>1504.0</td>\n      <td>3.813084</td>\n      <td>38.69</td>\n      <td>-121.22</td>\n      <td>0.946</td>\n    </tr>\n    <tr>\n      <th>2</th>\n      <td>4.7750</td>\n      <td>27.0</td>\n      <td>6.535604</td>\n      <td>1.103175</td>\n      <td>1061.0</td>\n      <td>2.464602</td>\n      <td>34.71</td>\n      <td>-120.45</td>\n      <td>1.576</td>\n    </tr>\n    <tr>\n      <th>3</th>\n      <td>2.4138</td>\n      <td>16.0</td>\n      <td>3.350203</td>\n      <td>0.965432</td>\n      <td>1255.0</td>\n      <td>2.089286</td>\n      <td>32.66</td>\n      <td>-117.09</td>\n      <td>1.336</td>\n    </tr>\n    <tr>\n      <th>4</th>\n      <td>3.7500</td>\n      <td>52.0</td>\n      <td>4.284404</td>\n      <td>1.069246</td>\n      <td>1793.0</td>\n      <td>1.604790</td>\n      <td>37.80</td>\n      <td>-122.41</td>\n      <td>4.500</td>\n    </tr>\n  </tbody>\n</table>\n</div>"
     },
     "execution_count": 178,
     "metadata": {},
     "output_type": "execute_result"
    }
   ],
   "source": [
    "DATA_URL = \"https://raw.githubusercontent.com/enpure/kaggle---s3e1---Regression-with-a-Tabular-California-Housing-Dataset/main/\"\n",
    "df = pd.read_csv(DATA_URL + \"train.csv\", index_col='id')\n",
    "df.head()"
   ],
   "metadata": {
    "collapsed": false,
    "ExecuteTime": {
     "end_time": "2024-03-22T04:11:30.105853900Z",
     "start_time": "2024-03-22T04:11:29.194221Z"
    }
   },
   "id": "ebe20183a928c32c",
   "execution_count": 178
  },
  {
   "cell_type": "markdown",
   "source": [
    "# EDA"
   ],
   "metadata": {
    "collapsed": false
   },
   "id": "57101fbe483967c"
  },
  {
   "cell_type": "code",
   "outputs": [
    {
     "name": "stdout",
     "output_type": "stream",
     "text": [
      "<class 'pandas.core.frame.DataFrame'>\n",
      "Index: 37137 entries, 0 to 37136\n",
      "Data columns (total 9 columns):\n",
      " #   Column       Non-Null Count  Dtype  \n",
      "---  ------       --------------  -----  \n",
      " 0   MedInc       37137 non-null  float64\n",
      " 1   HouseAge     37137 non-null  float64\n",
      " 2   AveRooms     37137 non-null  float64\n",
      " 3   AveBedrms    37137 non-null  float64\n",
      " 4   Population   37137 non-null  float64\n",
      " 5   AveOccup     37137 non-null  float64\n",
      " 6   Latitude     37137 non-null  float64\n",
      " 7   Longitude    37137 non-null  float64\n",
      " 8   MedHouseVal  37137 non-null  float64\n",
      "dtypes: float64(9)\n",
      "memory usage: 2.8 MB\n"
     ]
    }
   ],
   "source": [
    "df.info()"
   ],
   "metadata": {
    "collapsed": false,
    "ExecuteTime": {
     "end_time": "2024-03-22T04:11:30.123727300Z",
     "start_time": "2024-03-22T04:11:30.105853900Z"
    }
   },
   "id": "c8b4b7d5f9946fcf",
   "execution_count": 179
  },
  {
   "cell_type": "code",
   "outputs": [
    {
     "data": {
      "text/plain": "             MedInc      HouseAge      AveRooms     AveBedrms    Population  \\\ncount  37137.000000  37137.000000  37137.000000  37137.000000  37137.000000   \nmean       3.851029     26.057005      5.163124      1.062204   1660.778919   \nstd        1.803167     12.158221      1.206242      0.096490   1302.469608   \nmin        0.499900      2.000000      0.851064      0.500000      3.000000   \n25%        2.602300     17.000000      4.357522      1.020305    952.000000   \n50%        3.515600     25.000000      5.068611      1.054545   1383.000000   \n75%        4.699700     35.000000      5.858597      1.088825   1856.000000   \nmax       15.000100     52.000000     28.837607      5.873181  35682.000000   \n\n           AveOccup      Latitude     Longitude   MedHouseVal  \ncount  37137.000000  37137.000000  37137.000000  37137.000000  \nmean       2.831243     35.570030   -119.554329      2.079751  \nstd        2.702413      2.083179      1.974028      1.158571  \nmin        0.950000     32.550000   -124.350000      0.149990  \n25%        2.394495     33.930000   -121.800000      1.208000  \n50%        2.744828     34.190000   -118.450000      1.808000  \n75%        3.125313     37.700000   -118.020000      2.660000  \nmax      502.990610     41.950000   -114.550000      5.000010  ",
      "text/html": "<div>\n<style scoped>\n    .dataframe tbody tr th:only-of-type {\n        vertical-align: middle;\n    }\n\n    .dataframe tbody tr th {\n        vertical-align: top;\n    }\n\n    .dataframe thead th {\n        text-align: right;\n    }\n</style>\n<table border=\"1\" class=\"dataframe\">\n  <thead>\n    <tr style=\"text-align: right;\">\n      <th></th>\n      <th>MedInc</th>\n      <th>HouseAge</th>\n      <th>AveRooms</th>\n      <th>AveBedrms</th>\n      <th>Population</th>\n      <th>AveOccup</th>\n      <th>Latitude</th>\n      <th>Longitude</th>\n      <th>MedHouseVal</th>\n    </tr>\n  </thead>\n  <tbody>\n    <tr>\n      <th>count</th>\n      <td>37137.000000</td>\n      <td>37137.000000</td>\n      <td>37137.000000</td>\n      <td>37137.000000</td>\n      <td>37137.000000</td>\n      <td>37137.000000</td>\n      <td>37137.000000</td>\n      <td>37137.000000</td>\n      <td>37137.000000</td>\n    </tr>\n    <tr>\n      <th>mean</th>\n      <td>3.851029</td>\n      <td>26.057005</td>\n      <td>5.163124</td>\n      <td>1.062204</td>\n      <td>1660.778919</td>\n      <td>2.831243</td>\n      <td>35.570030</td>\n      <td>-119.554329</td>\n      <td>2.079751</td>\n    </tr>\n    <tr>\n      <th>std</th>\n      <td>1.803167</td>\n      <td>12.158221</td>\n      <td>1.206242</td>\n      <td>0.096490</td>\n      <td>1302.469608</td>\n      <td>2.702413</td>\n      <td>2.083179</td>\n      <td>1.974028</td>\n      <td>1.158571</td>\n    </tr>\n    <tr>\n      <th>min</th>\n      <td>0.499900</td>\n      <td>2.000000</td>\n      <td>0.851064</td>\n      <td>0.500000</td>\n      <td>3.000000</td>\n      <td>0.950000</td>\n      <td>32.550000</td>\n      <td>-124.350000</td>\n      <td>0.149990</td>\n    </tr>\n    <tr>\n      <th>25%</th>\n      <td>2.602300</td>\n      <td>17.000000</td>\n      <td>4.357522</td>\n      <td>1.020305</td>\n      <td>952.000000</td>\n      <td>2.394495</td>\n      <td>33.930000</td>\n      <td>-121.800000</td>\n      <td>1.208000</td>\n    </tr>\n    <tr>\n      <th>50%</th>\n      <td>3.515600</td>\n      <td>25.000000</td>\n      <td>5.068611</td>\n      <td>1.054545</td>\n      <td>1383.000000</td>\n      <td>2.744828</td>\n      <td>34.190000</td>\n      <td>-118.450000</td>\n      <td>1.808000</td>\n    </tr>\n    <tr>\n      <th>75%</th>\n      <td>4.699700</td>\n      <td>35.000000</td>\n      <td>5.858597</td>\n      <td>1.088825</td>\n      <td>1856.000000</td>\n      <td>3.125313</td>\n      <td>37.700000</td>\n      <td>-118.020000</td>\n      <td>2.660000</td>\n    </tr>\n    <tr>\n      <th>max</th>\n      <td>15.000100</td>\n      <td>52.000000</td>\n      <td>28.837607</td>\n      <td>5.873181</td>\n      <td>35682.000000</td>\n      <td>502.990610</td>\n      <td>41.950000</td>\n      <td>-114.550000</td>\n      <td>5.000010</td>\n    </tr>\n  </tbody>\n</table>\n</div>"
     },
     "execution_count": 180,
     "metadata": {},
     "output_type": "execute_result"
    }
   ],
   "source": [
    "df.describe()"
   ],
   "metadata": {
    "collapsed": false,
    "ExecuteTime": {
     "end_time": "2024-03-22T04:11:30.192454300Z",
     "start_time": "2024-03-22T04:11:30.118692Z"
    }
   },
   "id": "1160c7671c196409",
   "execution_count": 180
  },
  {
   "cell_type": "code",
   "outputs": [
    {
     "data": {
      "text/plain": "MedHouseVal\n5.00001    1827\n1.62500     215\n1.37500     194\n1.12500     171\n1.87500     169\n           ... \n4.18400       1\n4.71400       1\n4.18500       1\n0.79100       1\n0.51100       1\nName: count, Length: 3723, dtype: int64"
     },
     "execution_count": 181,
     "metadata": {},
     "output_type": "execute_result"
    }
   ],
   "source": [
    "df['MedHouseVal'].value_counts()"
   ],
   "metadata": {
    "collapsed": false,
    "ExecuteTime": {
     "end_time": "2024-03-22T04:11:30.222455400Z",
     "start_time": "2024-03-22T04:11:30.159633200Z"
    }
   },
   "id": "b8dac8e8d072d8f9",
   "execution_count": 181
  },
  {
   "cell_type": "code",
   "outputs": [
    {
     "data": {
      "text/plain": "(37137, 9)"
     },
     "execution_count": 182,
     "metadata": {},
     "output_type": "execute_result"
    }
   ],
   "source": [
    "df.shape"
   ],
   "metadata": {
    "collapsed": false,
    "ExecuteTime": {
     "end_time": "2024-03-22T04:11:30.224457300Z",
     "start_time": "2024-03-22T04:11:30.167587900Z"
    }
   },
   "id": "dbaa7656a2042c04",
   "execution_count": 182
  },
  {
   "cell_type": "code",
   "outputs": [],
   "source": [
    "X = df.copy()"
   ],
   "metadata": {
    "collapsed": false,
    "ExecuteTime": {
     "end_time": "2024-03-22T04:11:30.224457300Z",
     "start_time": "2024-03-22T04:11:30.174022500Z"
    }
   },
   "id": "4ec0dfd90f0aeca0",
   "execution_count": 183
  },
  {
   "cell_type": "code",
   "outputs": [
    {
     "data": {
      "text/plain": "Index(['MedInc', 'HouseAge', 'AveRooms', 'AveBedrms', 'Population', 'AveOccup',\n       'Latitude', 'Longitude', 'MedHouseVal'],\n      dtype='object')"
     },
     "execution_count": 184,
     "metadata": {},
     "output_type": "execute_result"
    }
   ],
   "source": [
    "X.columns"
   ],
   "metadata": {
    "collapsed": false,
    "ExecuteTime": {
     "end_time": "2024-03-22T04:11:30.252465Z",
     "start_time": "2024-03-22T04:11:30.178622200Z"
    }
   },
   "id": "c85e48c2781dc2ae",
   "execution_count": 184
  },
  {
   "cell_type": "code",
   "outputs": [
    {
     "data": {
      "text/plain": "<Figure size 600x600 with 8 Axes>",
      "image/png": "[encoded data removed]"
     },
     "metadata": {},
     "output_type": "display_data"
    }
   ],
   "source": [
    "# посмотрим на графике отношение каждого признака к таргету\n",
    "# Список столбцов для сравнения с 'MedHouseVal'\n",
    "columns = X.columns.drop('MedHouseVal')\n",
    "\n",
    "# Количество графиков\n",
    "n_plots = len(columns)\n",
    "\n",
    "# Количество графиков в одной строке\n",
    "n_cols = 3\n",
    "\n",
    "# Количество строк графиков\n",
    "n_rows = (n_plots + n_cols - 1) // n_cols\n",
    "\n",
    "# Создаем фигуру с подходящим размером\n",
    "plt.figure(figsize=(2 * n_cols, 2 * n_rows))\n",
    "\n",
    "# Цикл по всем столбцам\n",
    "for i, column in enumerate(columns, 1):\n",
    "    plt.subplot(n_rows, n_cols, i)\n",
    "    plt.scatter(X[column], X['MedHouseVal'])\n",
    "    plt.title(f'{column} vs MedHouseVal')\n",
    "\n",
    "# Отображаем графики\n",
    "plt.tight_layout()\n",
    "plt.show()"
   ],
   "metadata": {
    "collapsed": false,
    "ExecuteTime": {
     "end_time": "2024-03-22T04:11:31.321018400Z",
     "start_time": "2024-03-22T04:11:30.210454400Z"
    }
   },
   "id": "8fdec4260cbe9f61",
   "execution_count": 185
  },
  {
   "cell_type": "markdown",
   "source": [
    "MedInc vs MedHouseVal: Есть положительная корреляция между средним доходом и стоимостью жилья. С увеличением дохода стоимость жилья также, как правило, растет. Это может быть важным фактором для модели.\n",
    "\n",
    "HouseAge vs MedHouseVal: Наблюдается некоторая положительная корреляция, но она не так явно выражена. Возможно, старые дома в некоторых районах ценятся выше, но этот тренд не является универсальным.\n",
    "\n",
    "AveRooms vs MedHouseVal: Есть положительная корреляция, что указывает на то, что дома с большим количеством комнат в среднем стоят дороже. Однако есть выбросы, которые могут указывать на наличие аномалий в данных (например, очень большое количество комнат при низкой стоимости жилья).\n",
    "\n",
    "AveBedrms vs MedHouseVal: Связь менее выражена, чем с AveRooms, и имеются выбросы. Возможно, этот признак будет менее важным для модели.\n",
    "\n",
    "Population vs MedHouseVal: Нет четкой зависимости, что указывает на то, что население района, возможно, не сильно влияет на стоимость жилья.\n",
    "\n",
    "AveOccup vs MedHouseVal: Слабая отрицательная корреляция, но также присутствуют выбросы. Высокая средняя заселенность может быть признаком перенаселенности, что не всегда положительно сказывается на стоимости жилья.\n",
    "\n",
    "Latitude и Longitude vs MedHouseVal: На графиках видна некоторая географическая зависимость, что ожидаемо, так как стоимость жилья часто зависит от местоположения.\n",
    "\n",
    "В целом, наиболее интересными для дальнейшей проработки могут быть признаки MedInc, HouseAge, AveRooms и, возможно, географические координаты (Latitude и Longitude). Также стоит обратить внимание на выбросы и рассмотреть возможность их обработки для улучшения качества модели."
   ],
   "metadata": {
    "collapsed": false
   },
   "id": "8fd9c687af863ff2"
  },
  {
   "cell_type": "code",
   "outputs": [
    {
     "data": {
      "text/plain": "0"
     },
     "execution_count": 186,
     "metadata": {},
     "output_type": "execute_result"
    }
   ],
   "source": [
    "# Этот код проверит наличие дубликатов во всем датафрейме\n",
    "X.duplicated().sum()"
   ],
   "metadata": {
    "collapsed": false,
    "ExecuteTime": {
     "end_time": "2024-03-22T04:11:31.336226300Z",
     "start_time": "2024-03-22T04:11:31.322121700Z"
    }
   },
   "id": "2c336ddfd2cda95",
   "execution_count": 186
  },
  {
   "cell_type": "code",
   "outputs": [
    {
     "data": {
      "text/plain": "MedInc         0\nHouseAge       0\nAveRooms       0\nAveBedrms      0\nPopulation     0\nAveOccup       0\nLatitude       0\nLongitude      0\nMedHouseVal    0\ndtype: int64"
     },
     "execution_count": 187,
     "metadata": {},
     "output_type": "execute_result"
    }
   ],
   "source": [
    "# проверка на пустые значения\n",
    "X.isna().sum()"
   ],
   "metadata": {
    "collapsed": false,
    "ExecuteTime": {
     "end_time": "2024-03-22T04:11:31.342984200Z",
     "start_time": "2024-03-22T04:11:31.337338900Z"
    }
   },
   "id": "fabe2cd59843118e",
   "execution_count": 187
  },
  {
   "cell_type": "markdown",
   "source": [
    "Обработка выбросов: Вы можете использовать методы, такие как IQR (межквартильный размах) или Z-счет, для идентификации и удаления выбросов в данных. Например, для признака AveRooms вы можете удалить значения, которые сильно отклоняются от среднего.\n",
    "\n",
    "Фильтрация данных: Исключите из анализа записи, которые могут исказить результаты, например, дома с чрезмерно высокой или низкой стоимостью, которые могут быть аномальными.\n",
    "\n",
    "Преобразование признаков: Используйте логарифмическое преобразование для признаков с сильно искаженным распределением, чтобы сделать их более \"нормальными\" и улучшить предсказательную способность модели.\n",
    "\n",
    "Создание новых признаков: Исходя из существующих данных, можно создать новые признаки, которые могут быть полезны для модели. Например, соотношение количества комнат к количеству спален (AveRooms / AveBedrms) может быть интересным показателем.\n",
    "\n",
    "Использование географических данных: Можно попробовать разбить карту на сектора и использовать категориальные переменные для обозначения разных регионов. Также можно создать признаки, основанные на расстоянии до определенных точек интереса, например, до центра города, парков или школ.\n",
    "\n",
    "Масштабирование признаков: Приведите все числовые признаки к одному масштабу, используя, например, стандартизацию или нормализацию. Это поможет улучшить производительность некоторых алгоритмов машинного обучения.\n",
    "\n",
    "Кодирование категориальных переменных: Если у вас есть категориальные переменные, используйте подходы, такие как one-hot encoding или label encoding, для их преобразования в числовой формат."
   ],
   "metadata": {
    "collapsed": false
   },
   "id": "c5af1b220aaa01fe"
  },
  {
   "cell_type": "markdown",
   "source": [
    "# Предобработка данных"
   ],
   "metadata": {
    "collapsed": false
   },
   "id": "5e05fc019f60a835"
  },
  {
   "cell_type": "markdown",
   "source": [
    "## Обработать выбросы с использованием метода IQR "
   ],
   "metadata": {
    "collapsed": false
   },
   "id": "90873265716b8fa3"
  },
  {
   "cell_type": "code",
   "outputs": [
    {
     "name": "stdout",
     "output_type": "stream",
     "text": [
      "Original DataFrame size: (37137, 9)\n",
      "Filtered DataFrame size: (36572, 9)\n"
     ]
    }
   ],
   "source": [
    "# Вычисляем Q1 (первый квартиль) и Q3 (третий квартиль)\n",
    "Q1 = df['AveRooms'].quantile(0.25)\n",
    "Q3 = df['AveRooms'].quantile(0.75)\n",
    "\n",
    "# Вычисляем межквартильный размах (IQR)\n",
    "IQR = Q3 - Q1\n",
    "\n",
    "# Определяем границы для определения выбросов\n",
    "lower_bound = Q1 - 1.5 * IQR\n",
    "upper_bound = Q3 + 1.5 * IQR\n",
    "\n",
    "# Фильтруем данные, исключая выбросы\n",
    "filtered_df_AveRooms = df[(df['AveRooms'] >= lower_bound) & (df['AveRooms'] <= upper_bound)]\n",
    "\n",
    "# Проверяем размер отфильтрованных данных\n",
    "print(\"Original DataFrame size:\", df.shape)\n",
    "print(\"Filtered DataFrame size:\", filtered_df_AveRooms.shape)"
   ],
   "metadata": {
    "collapsed": false,
    "ExecuteTime": {
     "end_time": "2024-03-22T04:11:31.405994100Z",
     "start_time": "2024-03-22T04:11:31.343976800Z"
    }
   },
   "id": "3641f0f4b31fbbc0",
   "execution_count": 188
  },
  {
   "cell_type": "code",
   "outputs": [
    {
     "name": "stdout",
     "output_type": "stream",
     "text": [
      "Количество записей до фильтрации: 36572\n",
      "Количество записей после фильтрации: 35054\n"
     ]
    }
   ],
   "source": [
    "# Вычисление IQR для AveBedrms\n",
    "Q1 = filtered_df_AveRooms['AveBedrms'].quantile(0.25)\n",
    "Q3 = filtered_df_AveRooms['AveBedrms'].quantile(0.75)\n",
    "IQR = Q3 - Q1\n",
    "\n",
    "# Определение границ для выбросов\n",
    "lower_bound = Q1 - 1.5 * IQR\n",
    "upper_bound = Q3 + 1.5 * IQR\n",
    "\n",
    "# Фильтрация выбросов\n",
    "filtered_df = filtered_df_AveRooms[(filtered_df_AveRooms['AveBedrms'] >= lower_bound) & (filtered_df_AveRooms['AveBedrms'] <= upper_bound)]\n",
    "\n",
    "# Проверка результатов\n",
    "print(\"Количество записей до фильтрации:\", filtered_df_AveRooms.shape[0])\n",
    "print(\"Количество записей после фильтрации:\", filtered_df.shape[0])"
   ],
   "metadata": {
    "collapsed": false,
    "ExecuteTime": {
     "end_time": "2024-03-22T04:11:31.406991300Z",
     "start_time": "2024-03-22T04:11:31.355349400Z"
    }
   },
   "id": "68d52548f1e25c18",
   "execution_count": 189
  },
  {
   "cell_type": "code",
   "outputs": [],
   "source": [],
   "metadata": {
    "collapsed": false,
    "ExecuteTime": {
     "end_time": "2024-03-22T04:11:31.407994900Z",
     "start_time": "2024-03-22T04:11:31.363321500Z"
    }
   },
   "id": "5db9af3e0090667e",
   "execution_count": 189
  },
  {
   "cell_type": "markdown",
   "source": [
    "При обработке выбросов важно подходить к задаче с учетом специфики данных и целей исследования. Ваш подход с использованием IQR для фильтрации выбросов является классическим и эффективным методом, но, как вы заметили, он может привести к значительному уменьшению размера датасета. Вот несколько альтернативных подходов, которые могут помочь вам обойтись с выбросами более мягко:\n",
    "\n",
    "1. Коррекция выбросов вместо исключения\n",
    "Вместо того чтобы удалять выбросы, вы можете попробовать скорректировать их значения, приближая к границам нормального распределения. Например, значения, выходящие за пределы 1.5 IQR от квартилей, можно заменить на значения этих границ.\n",
    "\n",
    "2. Преобразование признаков\n",
    "Применение преобразований к данным может помочь уменьшить влияние выбросов. Например, логарифмирование или применение квадратного корня к данным может сделать распределение более нормальным и уменьшить влияние выбросов.\n",
    "\n",
    "3. Использование робастных метрик\n",
    "Вместо исключения выбросов рассмотрите возможность использования робастных (устойчивых) метрик и методов, которые менее чувствительны к выбросам. Например, вместо среднего значения можно использовать медиану для анализа центральной тенденции данных.\n",
    "\n",
    "4. Использование алгоритмов машинного обучения, устойчивых к выбросам\n",
    "Некоторые алгоритмы машинного обучения лучше справляются с выбросами, чем другие. Например, деревья решений и ансамблевые методы (случайный лес, градиентный бустинг) обычно менее чувствительны к выбросам в данных.\n",
    "\n",
    "5. Кластеризация выбросов\n",
    "Методы кластеризации, такие как DBSCAN, могут помочь идентифицировать и отделить выбросы от основных групп данных. После идентификации вы можете решить, корректировать ли эти данные или обрабатывать их отдельно.\n",
    "\n",
    "6. Ограничение выбросов\n",
    "Установите пороги значений для ваших данных, основанные на доменных знаниях или статистическом анализе, и ограничьте выбросы этими порогами. Это позволит сохранить больше данных, избегая слишком радикального уменьшения размера датасета."
   ],
   "metadata": {
    "collapsed": false
   },
   "id": "679c4012dd512543"
  },
  {
   "cell_type": "markdown",
   "source": [
    "## Создание новых признаков"
   ],
   "metadata": {
    "collapsed": false
   },
   "id": "3701e690d7419d1d"
  },
  {
   "cell_type": "code",
   "outputs": [],
   "source": [
    "# # Создание копии датафрейма для безопасного добавления нового признака\n",
    "# filtered_df = filtered_df.copy()\n",
    "# \n",
    "# # Создание нового признака - Соотношение комнат к спальням:\n",
    "# filtered_df['RoomsToBedrooms'] = filtered_df['AveRooms'] / filtered_df['AveBedrms']\n",
    "# \n",
    "# # Проверка результата\n",
    "# filtered_df[['AveRooms', 'AveBedrms', 'RoomsToBedrooms']].head()"
   ],
   "metadata": {
    "collapsed": false,
    "ExecuteTime": {
     "end_time": "2024-03-22T04:11:31.408986800Z",
     "start_time": "2024-03-22T04:11:31.366238100Z"
    }
   },
   "id": "934063e3460e1cec",
   "execution_count": 190
  },
  {
   "cell_type": "code",
   "outputs": [],
   "source": [],
   "metadata": {
    "collapsed": false,
    "ExecuteTime": {
     "end_time": "2024-03-22T04:11:31.408986800Z",
     "start_time": "2024-03-22T04:11:31.370070500Z"
    }
   },
   "id": "af4c3ccc19bc5d83",
   "execution_count": 190
  },
  {
   "cell_type": "code",
   "outputs": [],
   "source": [],
   "metadata": {
    "collapsed": false,
    "ExecuteTime": {
     "end_time": "2024-03-22T04:11:31.409997200Z",
     "start_time": "2024-03-22T04:11:31.373508100Z"
    }
   },
   "id": "a2d32f978f0dd8eb",
   "execution_count": 190
  },
  {
   "cell_type": "markdown",
   "source": [
    "## Разделим X и y"
   ],
   "metadata": {
    "collapsed": false
   },
   "id": "4814b58a4d889c37"
  },
  {
   "cell_type": "code",
   "outputs": [],
   "source": [
    "y = filtered_df['MedHouseVal']\n",
    "X = filtered_df.drop('MedHouseVal', axis=1)"
   ],
   "metadata": {
    "collapsed": false,
    "ExecuteTime": {
     "end_time": "2024-03-22T04:11:31.444988500Z",
     "start_time": "2024-03-22T04:11:31.377370200Z"
    }
   },
   "id": "a86645fba158baff",
   "execution_count": 191
  },
  {
   "cell_type": "code",
   "outputs": [],
   "source": [
    "from sklearn.preprocessing import StandardScaler\n",
    "\n",
    "# масштабирование\n",
    "scaler = StandardScaler()\n",
    "X_scaled = scaler.fit_transform(X)\n",
    "\n",
    "# Преобразование обратно в датафрейм с сохранением имен столбцов\n",
    "X_scaled = pd.DataFrame(X_scaled, columns=X.columns)"
   ],
   "metadata": {
    "collapsed": false,
    "ExecuteTime": {
     "end_time": "2024-03-22T04:11:31.445985900Z",
     "start_time": "2024-03-22T04:11:31.383155900Z"
    }
   },
   "id": "fb6157dd76714424",
   "execution_count": 192
  },
  {
   "cell_type": "markdown",
   "source": [],
   "metadata": {
    "collapsed": false
   },
   "id": "4336d1aec4a2d20e"
  },
  {
   "cell_type": "markdown",
   "source": [
    "## Предобработка тестового датасета"
   ],
   "metadata": {
    "collapsed": false
   },
   "id": "555301ca5ab6f7b"
  },
  {
   "cell_type": "code",
   "outputs": [
    {
     "data": {
      "text/plain": "       MedInc  HouseAge  AveRooms  AveBedrms  Population  AveOccup  Latitude  \\\nid                                                                             \n37137  1.7062      35.0  4.966368   1.096539      1318.0  2.844411     39.75   \n37138  1.3882      22.0  4.187035   1.098229      2296.0  3.180218     33.95   \n37139  7.7197      21.0  7.129436   0.959276      1535.0  2.888889     33.61   \n37140  4.6806      49.0  4.769697   1.048485       707.0  1.743590     34.17   \n37141  3.1284      25.0  3.765306   1.081633      4716.0  2.003827     34.17   \n\n       Longitude  \nid                \n37137    -121.85  \n37138    -118.29  \n37139    -117.81  \n37140    -118.34  \n37141    -118.29  ",
      "text/html": "<div>\n<style scoped>\n    .dataframe tbody tr th:only-of-type {\n        vertical-align: middle;\n    }\n\n    .dataframe tbody tr th {\n        vertical-align: top;\n    }\n\n    .dataframe thead th {\n        text-align: right;\n    }\n</style>\n<table border=\"1\" class=\"dataframe\">\n  <thead>\n    <tr style=\"text-align: right;\">\n      <th></th>\n      <th>MedInc</th>\n      <th>HouseAge</th>\n      <th>AveRooms</th>\n      <th>AveBedrms</th>\n      <th>Population</th>\n      <th>AveOccup</th>\n      <th>Latitude</th>\n      <th>Longitude</th>\n    </tr>\n    <tr>\n      <th>id</th>\n      <th></th>\n      <th></th>\n      <th></th>\n      <th></th>\n      <th></th>\n      <th></th>\n      <th></th>\n      <th></th>\n    </tr>\n  </thead>\n  <tbody>\n    <tr>\n      <th>37137</th>\n      <td>1.7062</td>\n      <td>35.0</td>\n      <td>4.966368</td>\n      <td>1.096539</td>\n      <td>1318.0</td>\n      <td>2.844411</td>\n      <td>39.75</td>\n      <td>-121.85</td>\n    </tr>\n    <tr>\n      <th>37138</th>\n      <td>1.3882</td>\n      <td>22.0</td>\n      <td>4.187035</td>\n      <td>1.098229</td>\n      <td>2296.0</td>\n      <td>3.180218</td>\n      <td>33.95</td>\n      <td>-118.29</td>\n    </tr>\n    <tr>\n      <th>37139</th>\n      <td>7.7197</td>\n      <td>21.0</td>\n      <td>7.129436</td>\n      <td>0.959276</td>\n      <td>1535.0</td>\n      <td>2.888889</td>\n      <td>33.61</td>\n      <td>-117.81</td>\n    </tr>\n    <tr>\n      <th>37140</th>\n      <td>4.6806</td>\n      <td>49.0</td>\n      <td>4.769697</td>\n      <td>1.048485</td>\n      <td>707.0</td>\n      <td>1.743590</td>\n      <td>34.17</td>\n      <td>-118.34</td>\n    </tr>\n    <tr>\n      <th>37141</th>\n      <td>3.1284</td>\n      <td>25.0</td>\n      <td>3.765306</td>\n      <td>1.081633</td>\n      <td>4716.0</td>\n      <td>2.003827</td>\n      <td>34.17</td>\n      <td>-118.29</td>\n    </tr>\n  </tbody>\n</table>\n</div>"
     },
     "execution_count": 193,
     "metadata": {},
     "output_type": "execute_result"
    }
   ],
   "source": [
    "# загрузим тестовый датасет\n",
    "\n",
    "DATA_URL = \"https://raw.githubusercontent.com/enpure/kaggle---s3e1---Regression-with-a-Tabular-California-Housing-Dataset/main/\"\n",
    "test = pd.read_csv(DATA_URL + \"test.csv\", index_col='id')\n",
    "test.head()"
   ],
   "metadata": {
    "collapsed": false,
    "ExecuteTime": {
     "end_time": "2024-03-22T04:11:32.028316600Z",
     "start_time": "2024-03-22T04:11:31.395009200Z"
    }
   },
   "id": "24b6437ae4607e1d",
   "execution_count": 193
  },
  {
   "cell_type": "code",
   "outputs": [
    {
     "name": "stdout",
     "output_type": "stream",
     "text": [
      "0\n",
      "MedInc        0\n",
      "HouseAge      0\n",
      "AveRooms      0\n",
      "AveBedrms     0\n",
      "Population    0\n",
      "AveOccup      0\n",
      "Latitude      0\n",
      "Longitude     0\n",
      "dtype: int64\n"
     ]
    }
   ],
   "source": [
    "# предобработаем тестовый датасет, также, как и тренировочный\n",
    "print(test.duplicated().sum())\n",
    "print(test.isna().sum())"
   ],
   "metadata": {
    "collapsed": false,
    "ExecuteTime": {
     "end_time": "2024-03-22T04:11:32.034366400Z",
     "start_time": "2024-03-22T04:11:32.028316600Z"
    }
   },
   "id": "dbe77af4f3810a9e",
   "execution_count": 194
  },
  {
   "cell_type": "code",
   "outputs": [],
   "source": [
    "# # Создание нового признака - Соотношение комнат к спальням:\n",
    "# test['RoomsToBedrooms'] = test['AveRooms'] / test['AveBedrms']"
   ],
   "metadata": {
    "collapsed": false,
    "ExecuteTime": {
     "end_time": "2024-03-22T04:11:32.043108600Z",
     "start_time": "2024-03-22T04:11:32.035366600Z"
    }
   },
   "id": "28769f8e594fbf25",
   "execution_count": 195
  },
  {
   "cell_type": "code",
   "outputs": [],
   "source": [
    "# масштабирование\n",
    "test_scaled = scaler.transform(test)\n",
    "\n",
    "# Преобразование обратно в датафрейм с сохранением имен столбцов\n",
    "test_scaled = pd.DataFrame(test_scaled, columns=test.columns)"
   ],
   "metadata": {
    "collapsed": false,
    "ExecuteTime": {
     "end_time": "2024-03-22T04:11:32.057939200Z",
     "start_time": "2024-03-22T04:11:32.038108900Z"
    }
   },
   "id": "abfae5e4fc6fe3",
   "execution_count": 196
  },
  {
   "cell_type": "markdown",
   "source": [
    "# Модели и обучение"
   ],
   "metadata": {
    "collapsed": false
   },
   "id": "371eebbc86731edb"
  },
  {
   "cell_type": "markdown",
   "source": [
    "## Использование Optuna и CV"
   ],
   "metadata": {
    "collapsed": false
   },
   "id": "d6030ca62ff26ba4"
  },
  {
   "cell_type": "code",
   "outputs": [
    {
     "name": "stderr",
     "output_type": "stream",
     "text": [
      "[I 2024-03-22 01:39:49,520] A new study created in memory with name: no-name-c6273d84-c983-4cb4-ad97-288ebaaee3e6\n",
      "[I 2024-03-22 01:39:50,467] Trial 0 finished with value: 0.5621167714443376 and parameters: {'n_estimators': 360, 'learning_rate': 0.22807101425054407, 'max_depth': 3}. Best is trial 0 with value: 0.5621167714443376.\n",
      "[I 2024-03-22 01:39:53,764] Trial 1 finished with value: 0.569534194605203 and parameters: {'n_estimators': 302, 'learning_rate': 0.08858809550250277, 'max_depth': 8}. Best is trial 0 with value: 0.5621167714443376.\n",
      "[I 2024-03-22 01:39:54,097] Trial 2 finished with value: 0.5734661758326748 and parameters: {'n_estimators': 83, 'learning_rate': 0.1529406123524412, 'max_depth': 4}. Best is trial 0 with value: 0.5621167714443376.\n",
      "[I 2024-03-22 01:39:54,834] Trial 3 finished with value: 0.5666489115482258 and parameters: {'n_estimators': 223, 'learning_rate': 0.2702790950754002, 'max_depth': 4}. Best is trial 0 with value: 0.5621167714443376.\n",
      "[I 2024-03-22 01:39:57,382] Trial 4 finished with value: 0.5936596138925908 and parameters: {'n_estimators': 232, 'learning_rate': 0.2612753706749004, 'max_depth': 8}. Best is trial 0 with value: 0.5621167714443376.\n",
      "[I 2024-03-22 01:40:01,546] Trial 5 finished with value: 0.5702489440691071 and parameters: {'n_estimators': 276, 'learning_rate': 0.05671878111994752, 'max_depth': 9}. Best is trial 0 with value: 0.5621167714443376.\n",
      "[I 2024-03-22 01:40:02,733] Trial 6 finished with value: 0.5705960599238378 and parameters: {'n_estimators': 393, 'learning_rate': 0.05699300514968726, 'max_depth': 3}. Best is trial 0 with value: 0.5621167714443376.\n",
      "[I 2024-03-22 01:40:03,714] Trial 7 finished with value: 0.5698718153226158 and parameters: {'n_estimators': 275, 'learning_rate': 0.05274997067902003, 'max_depth': 4}. Best is trial 0 with value: 0.5621167714443376.\n",
      "[I 2024-03-22 01:40:04,032] Trial 8 finished with value: 0.5773173246571415 and parameters: {'n_estimators': 71, 'learning_rate': 0.13132877228225162, 'max_depth': 4}. Best is trial 0 with value: 0.5621167714443376.\n",
      "[I 2024-03-22 01:40:04,295] Trial 9 finished with value: 0.5741270387026083 and parameters: {'n_estimators': 55, 'learning_rate': 0.20779900759735254, 'max_depth': 4}. Best is trial 0 with value: 0.5621167714443376.\n",
      "[I 2024-03-22 01:40:07,003] Trial 10 finished with value: 0.5812347346455145 and parameters: {'n_estimators': 484, 'learning_rate': 0.2080003748937606, 'max_depth': 6}. Best is trial 0 with value: 0.5621167714443376.\n",
      "[I 2024-03-22 01:40:08,099] Trial 11 finished with value: 0.5787075563983809 and parameters: {'n_estimators': 179, 'learning_rate': 0.2827266952289855, 'max_depth': 6}. Best is trial 0 with value: 0.5621167714443376.\n",
      "[I 2024-03-22 01:40:09,157] Trial 12 finished with value: 0.562721784197724 and parameters: {'n_estimators': 393, 'learning_rate': 0.23028937682980705, 'max_depth': 3}. Best is trial 0 with value: 0.5621167714443376.\n",
      "[I 2024-03-22 01:40:10,178] Trial 13 finished with value: 0.5624329201626798 and parameters: {'n_estimators': 389, 'learning_rate': 0.21167829386796494, 'max_depth': 3}. Best is trial 0 with value: 0.5621167714443376.\n",
      "[I 2024-03-22 01:40:11,848] Trial 14 finished with value: 0.5681432117643269 and parameters: {'n_estimators': 385, 'learning_rate': 0.19007831308736522, 'max_depth': 5}. Best is trial 0 with value: 0.5621167714443376.\n",
      "[I 2024-03-22 01:40:13,310] Trial 15 finished with value: 0.5610766418438856 and parameters: {'n_estimators': 489, 'learning_rate': 0.17188488621034267, 'max_depth': 3}. Best is trial 15 with value: 0.5610766418438856.\n",
      "[I 2024-03-22 01:40:25,409] Trial 16 finished with value: 0.5854893860808917 and parameters: {'n_estimators': 497, 'learning_rate': 0.12250605218802868, 'max_depth': 10}. Best is trial 15 with value: 0.5610766418438856.\n",
      "[I 2024-03-22 01:40:27,715] Trial 17 finished with value: 0.586968720032559 and parameters: {'n_estimators': 441, 'learning_rate': 0.01010215504468942, 'max_depth': 5}. Best is trial 15 with value: 0.5610766418438856.\n",
      "[I 2024-03-22 01:40:30,428] Trial 18 finished with value: 0.5777998345077323 and parameters: {'n_estimators': 332, 'learning_rate': 0.1714931705406929, 'max_depth': 7}. Best is trial 15 with value: 0.5610766418438856.\n",
      "[I 2024-03-22 01:40:32,378] Trial 19 finished with value: 0.57681320316545 and parameters: {'n_estimators': 444, 'learning_rate': 0.2409763898765358, 'max_depth': 5}. Best is trial 15 with value: 0.5610766418438856.\n",
      "[I 2024-03-22 01:40:33,380] Trial 20 finished with value: 0.5634586666929187 and parameters: {'n_estimators': 350, 'learning_rate': 0.2972181591113393, 'max_depth': 3}. Best is trial 15 with value: 0.5610766418438856.\n",
      "[I 2024-03-22 01:40:34,683] Trial 21 finished with value: 0.5628535387147215 and parameters: {'n_estimators': 440, 'learning_rate': 0.2380528324816042, 'max_depth': 3}. Best is trial 15 with value: 0.5610766418438856.\n",
      "[I 2024-03-22 01:40:35,884] Trial 22 finished with value: 0.5621289667084222 and parameters: {'n_estimators': 368, 'learning_rate': 0.1759379122920886, 'max_depth': 3}. Best is trial 15 with value: 0.5610766418438856.\n",
      "[I 2024-03-22 01:40:37,557] Trial 23 finished with value: 0.5653770593958025 and parameters: {'n_estimators': 340, 'learning_rate': 0.16523503270676718, 'max_depth': 5}. Best is trial 15 with value: 0.5610766418438856.\n",
      "[I 2024-03-22 01:40:38,975] Trial 24 finished with value: 0.5612195235184367 and parameters: {'n_estimators': 464, 'learning_rate': 0.1354327865472519, 'max_depth': 3}. Best is trial 15 with value: 0.5610766418438856.\n",
      "[I 2024-03-22 01:40:40,620] Trial 25 finished with value: 0.5619920841213963 and parameters: {'n_estimators': 472, 'learning_rate': 0.13403688660895785, 'max_depth': 4}. Best is trial 15 with value: 0.5610766418438856.\n",
      "[I 2024-03-22 01:40:42,286] Trial 26 finished with value: 0.5613865291182802 and parameters: {'n_estimators': 466, 'learning_rate': 0.11480295022472062, 'max_depth': 4}. Best is trial 15 with value: 0.5610766418438856.\n",
      "[I 2024-03-22 01:40:44,829] Trial 27 finished with value: 0.5641148693452558 and parameters: {'n_estimators': 439, 'learning_rate': 0.09806700377612107, 'max_depth': 6}. Best is trial 15 with value: 0.5610766418438856.\n",
      "[I 2024-03-22 01:40:46,837] Trial 28 finished with value: 0.5616965480337639 and parameters: {'n_estimators': 465, 'learning_rate': 0.08321297276811913, 'max_depth': 5}. Best is trial 15 with value: 0.5610766418438856.\n",
      "[I 2024-03-22 01:40:48,017] Trial 29 finished with value: 0.5623030738567751 and parameters: {'n_estimators': 425, 'learning_rate': 0.1451971508339598, 'max_depth': 3}. Best is trial 15 with value: 0.5610766418438856.\n",
      "[I 2024-03-22 01:40:49,439] Trial 30 finished with value: 0.5611768747818695 and parameters: {'n_estimators': 411, 'learning_rate': 0.10678992727704861, 'max_depth': 4}. Best is trial 15 with value: 0.5610766418438856.\n",
      "[I 2024-03-22 01:40:50,884] Trial 31 finished with value: 0.5602241912222061 and parameters: {'n_estimators': 419, 'learning_rate': 0.11059305095260873, 'max_depth': 4}. Best is trial 31 with value: 0.5602241912222061.\n",
      "[I 2024-03-22 01:40:52,234] Trial 32 finished with value: 0.5625410542207576 and parameters: {'n_estimators': 497, 'learning_rate': 0.1066828957869838, 'max_depth': 3}. Best is trial 31 with value: 0.5602241912222061.\n",
      "[I 2024-03-22 01:40:53,669] Trial 33 finished with value: 0.5621876378476461 and parameters: {'n_estimators': 415, 'learning_rate': 0.08113957926283416, 'max_depth': 4}. Best is trial 31 with value: 0.5602241912222061.\n",
      "[I 2024-03-22 01:40:54,747] Trial 34 finished with value: 0.562519180746392 and parameters: {'n_estimators': 304, 'learning_rate': 0.14628121144375902, 'max_depth': 4}. Best is trial 31 with value: 0.5602241912222061.\n",
      "[I 2024-03-22 01:40:55,909] Trial 35 finished with value: 0.5717894096994367 and parameters: {'n_estimators': 127, 'learning_rate': 0.19022904464659604, 'max_depth': 7}. Best is trial 31 with value: 0.5602241912222061.\n",
      "[I 2024-03-22 01:40:57,708] Trial 36 finished with value: 0.5610053730996514 and parameters: {'n_estimators': 409, 'learning_rate': 0.06797493306845648, 'max_depth': 5}. Best is trial 31 with value: 0.5602241912222061.\n",
      "[I 2024-03-22 01:40:58,905] Trial 37 finished with value: 0.5710557068998505 and parameters: {'n_estimators': 242, 'learning_rate': 0.03375332973625356, 'max_depth': 5}. Best is trial 31 with value: 0.5602241912222061.\n",
      "[I 2024-03-22 01:41:01,258] Trial 38 finished with value: 0.5628017545786042 and parameters: {'n_estimators': 413, 'learning_rate': 0.06611331193298345, 'max_depth': 6}. Best is trial 31 with value: 0.5602241912222061.\n",
      "[I 2024-03-22 01:41:02,971] Trial 39 finished with value: 0.5619232235899837 and parameters: {'n_estimators': 406, 'learning_rate': 0.09294259572483267, 'max_depth': 5}. Best is trial 31 with value: 0.5602241912222061.\n",
      "[I 2024-03-22 01:41:04,086] Trial 40 finished with value: 0.5743375148830302 and parameters: {'n_estimators': 315, 'learning_rate': 0.033205977658537986, 'max_depth': 4}. Best is trial 31 with value: 0.5602241912222061.\n",
      "[I 2024-03-22 01:41:05,636] Trial 41 finished with value: 0.5620233969385848 and parameters: {'n_estimators': 463, 'learning_rate': 0.06939978086588738, 'max_depth': 4}. Best is trial 31 with value: 0.5602241912222061.\n",
      "[I 2024-03-22 01:41:06,628] Trial 42 finished with value: 0.5638158003107046 and parameters: {'n_estimators': 367, 'learning_rate': 0.13011486798801003, 'max_depth': 3}. Best is trial 31 with value: 0.5602241912222061.\n",
      "[I 2024-03-22 01:41:08,134] Trial 43 finished with value: 0.5613956515540408 and parameters: {'n_estimators': 452, 'learning_rate': 0.1137559740524379, 'max_depth': 4}. Best is trial 31 with value: 0.5602241912222061.\n",
      "[I 2024-03-22 01:41:09,425] Trial 44 finished with value: 0.5616504493976706 and parameters: {'n_estimators': 481, 'learning_rate': 0.15478021197891279, 'max_depth': 3}. Best is trial 31 with value: 0.5602241912222061.\n",
      "[I 2024-03-22 01:41:10,863] Trial 45 finished with value: 0.5611526818842094 and parameters: {'n_estimators': 428, 'learning_rate': 0.09884412199638615, 'max_depth': 4}. Best is trial 31 with value: 0.5602241912222061.\n",
      "[I 2024-03-22 01:41:12,192] Trial 46 finished with value: 0.5606255451653206 and parameters: {'n_estimators': 382, 'learning_rate': 0.10342225058485013, 'max_depth': 4}. Best is trial 31 with value: 0.5602241912222061.\n",
      "[I 2024-03-22 01:41:13,825] Trial 47 finished with value: 0.5622555584460155 and parameters: {'n_estimators': 373, 'learning_rate': 0.06988337059989568, 'max_depth': 5}. Best is trial 31 with value: 0.5602241912222061.\n",
      "[I 2024-03-22 01:41:18,742] Trial 48 finished with value: 0.5664562987263667 and parameters: {'n_estimators': 425, 'learning_rate': 0.04507574385408789, 'max_depth': 8}. Best is trial 31 with value: 0.5602241912222061.\n",
      "[I 2024-03-22 01:41:20,112] Trial 49 finished with value: 0.5617230369812398 and parameters: {'n_estimators': 389, 'learning_rate': 0.09621245043427812, 'max_depth': 4}. Best is trial 31 with value: 0.5602241912222061.\n",
      "[I 2024-03-22 01:41:21,695] Trial 50 finished with value: 0.5615573951660637 and parameters: {'n_estimators': 253, 'learning_rate': 0.0737694795956894, 'max_depth': 6}. Best is trial 31 with value: 0.5602241912222061.\n",
      "[I 2024-03-22 01:41:23,203] Trial 51 finished with value: 0.5608388481576319 and parameters: {'n_estimators': 408, 'learning_rate': 0.1084115109238716, 'max_depth': 4}. Best is trial 31 with value: 0.5602241912222061.\n",
      "[I 2024-03-22 01:41:23,941] Trial 52 finished with value: 0.5750825570305416 and parameters: {'n_estimators': 185, 'learning_rate': 0.05513516238618877, 'max_depth': 4}. Best is trial 31 with value: 0.5602241912222061.\n",
      "[I 2024-03-22 01:41:25,446] Trial 53 finished with value: 0.5625691865772336 and parameters: {'n_estimators': 326, 'learning_rate': 0.12333020565139709, 'max_depth': 5}. Best is trial 31 with value: 0.5602241912222061.\n",
      "[I 2024-03-22 01:41:26,891] Trial 54 finished with value: 0.5618047264270384 and parameters: {'n_estimators': 397, 'learning_rate': 0.0864118873673112, 'max_depth': 4}. Best is trial 31 with value: 0.5602241912222061.\n",
      "[I 2024-03-22 01:41:32,771] Trial 55 finished with value: 0.5776057114230981 and parameters: {'n_estimators': 356, 'learning_rate': 0.10568647659662876, 'max_depth': 9}. Best is trial 31 with value: 0.5602241912222061.\n",
      "[I 2024-03-22 01:41:33,618] Trial 56 finished with value: 0.5640180908832566 and parameters: {'n_estimators': 285, 'learning_rate': 0.18189268536047054, 'max_depth': 3}. Best is trial 31 with value: 0.5602241912222061.\n",
      "[I 2024-03-22 01:41:35,506] Trial 57 finished with value: 0.5632419195971581 and parameters: {'n_estimators': 424, 'learning_rate': 0.12238037774737794, 'max_depth': 5}. Best is trial 31 with value: 0.5602241912222061.\n",
      "[I 2024-03-22 01:41:37,214] Trial 58 finished with value: 0.5629686215963281 and parameters: {'n_estimators': 498, 'learning_rate': 0.16267859306591528, 'max_depth': 4}. Best is trial 31 with value: 0.5602241912222061.\n",
      "[I 2024-03-22 01:41:38,467] Trial 59 finished with value: 0.5615309694701789 and parameters: {'n_estimators': 450, 'learning_rate': 0.14167032410991798, 'max_depth': 3}. Best is trial 31 with value: 0.5602241912222061.\n",
      "[I 2024-03-22 01:41:40,401] Trial 60 finished with value: 0.5697616055561039 and parameters: {'n_estimators': 434, 'learning_rate': 0.19547271201380248, 'max_depth': 5}. Best is trial 31 with value: 0.5602241912222061.\n",
      "[I 2024-03-22 01:41:41,767] Trial 61 finished with value: 0.5618271111051593 and parameters: {'n_estimators': 379, 'learning_rate': 0.10398353745705098, 'max_depth': 4}. Best is trial 31 with value: 0.5602241912222061.\n",
      "[I 2024-03-22 01:41:43,189] Trial 62 finished with value: 0.5612232513078969 and parameters: {'n_estimators': 398, 'learning_rate': 0.11386588195187881, 'max_depth': 4}. Best is trial 31 with value: 0.5602241912222061.\n",
      "[I 2024-03-22 01:41:44,721] Trial 63 finished with value: 0.5623884397492598 and parameters: {'n_estimators': 407, 'learning_rate': 0.07879671370320158, 'max_depth': 4}. Best is trial 31 with value: 0.5602241912222061.\n",
      "[I 2024-03-22 01:41:46,010] Trial 64 finished with value: 0.5626549583486955 and parameters: {'n_estimators': 342, 'learning_rate': 0.08801519342112643, 'max_depth': 4}. Best is trial 31 with value: 0.5602241912222061.\n",
      "[I 2024-03-22 01:41:47,365] Trial 65 finished with value: 0.5668576264727159 and parameters: {'n_estimators': 480, 'learning_rate': 0.061040190554021864, 'max_depth': 3}. Best is trial 31 with value: 0.5602241912222061.\n",
      "[I 2024-03-22 01:41:49,442] Trial 66 finished with value: 0.5632054087104827 and parameters: {'n_estimators': 454, 'learning_rate': 0.04519775962184577, 'max_depth': 5}. Best is trial 31 with value: 0.5602241912222061.\n",
      "[I 2024-03-22 01:41:50,667] Trial 67 finished with value: 0.5636535489420775 and parameters: {'n_estimators': 429, 'learning_rate': 0.10107485242043998, 'max_depth': 3}. Best is trial 31 with value: 0.5602241912222061.\n",
      "[I 2024-03-22 01:41:52,032] Trial 68 finished with value: 0.5619822919518536 and parameters: {'n_estimators': 380, 'learning_rate': 0.1248888721422877, 'max_depth': 4}. Best is trial 31 with value: 0.5602241912222061.\n",
      "[I 2024-03-22 01:41:53,070] Trial 69 finished with value: 0.5653186229409897 and parameters: {'n_estimators': 351, 'learning_rate': 0.11047766277389678, 'max_depth': 3}. Best is trial 31 with value: 0.5602241912222061.\n",
      "[I 2024-03-22 01:41:54,961] Trial 70 finished with value: 0.561627599560106 and parameters: {'n_estimators': 415, 'learning_rate': 0.09267985387282511, 'max_depth': 5}. Best is trial 31 with value: 0.5602241912222061.\n",
      "[I 2024-03-22 01:41:56,264] Trial 71 finished with value: 0.562530995509179 and parameters: {'n_estimators': 459, 'learning_rate': 0.13029720806975598, 'max_depth': 3}. Best is trial 31 with value: 0.5602241912222061.\n",
      "[I 2024-03-22 01:41:57,948] Trial 72 finished with value: 0.5608324507658432 and parameters: {'n_estimators': 478, 'learning_rate': 0.13566983504495908, 'max_depth': 4}. Best is trial 31 with value: 0.5602241912222061.\n",
      "[I 2024-03-22 01:41:59,504] Trial 73 finished with value: 0.5608991579515918 and parameters: {'n_estimators': 446, 'learning_rate': 0.14013899736975158, 'max_depth': 4}. Best is trial 31 with value: 0.5602241912222061.\n",
      "[I 2024-03-22 01:42:01,178] Trial 74 finished with value: 0.5628411036951949 and parameters: {'n_estimators': 486, 'learning_rate': 0.16365325481704793, 'max_depth': 4}. Best is trial 31 with value: 0.5602241912222061.\n",
      "[I 2024-03-22 01:42:02,731] Trial 75 finished with value: 0.5616529059222608 and parameters: {'n_estimators': 442, 'learning_rate': 0.1381928760922871, 'max_depth': 4}. Best is trial 31 with value: 0.5602241912222061.\n",
      "[I 2024-03-22 01:42:04,866] Trial 76 finished with value: 0.5651522291056946 and parameters: {'n_estimators': 472, 'learning_rate': 0.14874999181896745, 'max_depth': 5}. Best is trial 31 with value: 0.5602241912222061.\n",
      "[I 2024-03-22 01:42:06,591] Trial 77 finished with value: 0.5604716443975581 and parameters: {'n_estimators': 490, 'learning_rate': 0.11845551309012771, 'max_depth': 4}. Best is trial 31 with value: 0.5602241912222061.\n",
      "[I 2024-03-22 01:42:08,257] Trial 78 finished with value: 0.5621023404613528 and parameters: {'n_estimators': 486, 'learning_rate': 0.15692534917651116, 'max_depth': 4}. Best is trial 31 with value: 0.5602241912222061.\n",
      "[I 2024-03-22 01:42:09,646] Trial 79 finished with value: 0.5617028413295124 and parameters: {'n_estimators': 500, 'learning_rate': 0.17869592856961986, 'max_depth': 3}. Best is trial 31 with value: 0.5602241912222061.\n",
      "[I 2024-03-22 01:42:11,716] Trial 80 finished with value: 0.5641279854438283 and parameters: {'n_estimators': 469, 'learning_rate': 0.11920140456894848, 'max_depth': 5}. Best is trial 31 with value: 0.5602241912222061.\n",
      "[I 2024-03-22 01:42:13,421] Trial 81 finished with value: 0.5605102569869469 and parameters: {'n_estimators': 447, 'learning_rate': 0.12811324846676458, 'max_depth': 4}. Best is trial 31 with value: 0.5602241912222061.\n",
      "[I 2024-03-22 01:42:15,347] Trial 82 finished with value: 0.561255153511972 and parameters: {'n_estimators': 452, 'learning_rate': 0.14107032303741787, 'max_depth': 4}. Best is trial 31 with value: 0.5602241912222061.\n",
      "[I 2024-03-22 01:42:19,713] Trial 83 finished with value: 0.5779240389219309 and parameters: {'n_estimators': 480, 'learning_rate': 0.15320752495286682, 'max_depth': 7}. Best is trial 31 with value: 0.5602241912222061.\n",
      "[I 2024-03-22 01:42:21,443] Trial 84 finished with value: 0.5616830136856703 and parameters: {'n_estimators': 446, 'learning_rate': 0.13377496858450885, 'max_depth': 4}. Best is trial 31 with value: 0.5602241912222061.\n",
      "[I 2024-03-22 01:42:23,384] Trial 85 finished with value: 0.561296200515917 and parameters: {'n_estimators': 489, 'learning_rate': 0.13092181695649616, 'max_depth': 4}. Best is trial 31 with value: 0.5602241912222061.\n",
      "[I 2024-03-22 01:42:26,287] Trial 86 finished with value: 0.5661079931497957 and parameters: {'n_estimators': 436, 'learning_rate': 0.11371911965403708, 'max_depth': 6}. Best is trial 31 with value: 0.5602241912222061.\n",
      "[I 2024-03-22 01:42:28,384] Trial 87 finished with value: 0.5878264420204371 and parameters: {'n_estimators': 404, 'learning_rate': 0.010751013542760757, 'max_depth': 5}. Best is trial 31 with value: 0.5602241912222061.\n",
      "[I 2024-03-22 01:42:29,453] Trial 88 finished with value: 0.5629421224098292 and parameters: {'n_estimators': 421, 'learning_rate': 0.1480153523290006, 'max_depth': 3}. Best is trial 31 with value: 0.5602241912222061.\n",
      "[I 2024-03-22 01:42:40,274] Trial 89 finished with value: 0.5917689469455305 and parameters: {'n_estimators': 474, 'learning_rate': 0.17368044262498972, 'max_depth': 10}. Best is trial 31 with value: 0.5602241912222061.\n",
      "[I 2024-03-22 01:42:41,991] Trial 90 finished with value: 0.5605908169589088 and parameters: {'n_estimators': 459, 'learning_rate': 0.126333602572761, 'max_depth': 4}. Best is trial 31 with value: 0.5602241912222061.\n",
      "[I 2024-03-22 01:42:43,825] Trial 91 finished with value: 0.5609262944678081 and parameters: {'n_estimators': 463, 'learning_rate': 0.12093660304901606, 'max_depth': 4}. Best is trial 31 with value: 0.5602241912222061.\n",
      "[I 2024-03-22 01:42:45,949] Trial 92 finished with value: 0.5606113607290653 and parameters: {'n_estimators': 459, 'learning_rate': 0.12049371653852689, 'max_depth': 4}. Best is trial 31 with value: 0.5602241912222061.\n",
      "[I 2024-03-22 01:42:47,939] Trial 93 finished with value: 0.5606053696010089 and parameters: {'n_estimators': 460, 'learning_rate': 0.10860384371591614, 'max_depth': 4}. Best is trial 31 with value: 0.5602241912222061.\n",
      "[I 2024-03-22 01:42:49,715] Trial 94 finished with value: 0.5611149684698582 and parameters: {'n_estimators': 440, 'learning_rate': 0.12582149906323914, 'max_depth': 4}. Best is trial 31 with value: 0.5602241912222061.\n",
      "[I 2024-03-22 01:42:51,493] Trial 95 finished with value: 0.5609975582948709 and parameters: {'n_estimators': 453, 'learning_rate': 0.11780009489353488, 'max_depth': 4}. Best is trial 31 with value: 0.5602241912222061.\n",
      "[I 2024-03-22 01:42:53,365] Trial 96 finished with value: 0.5608100360242464 and parameters: {'n_estimators': 474, 'learning_rate': 0.10968270812900112, 'max_depth': 4}. Best is trial 31 with value: 0.5602241912222061.\n",
      "[I 2024-03-22 01:42:55,195] Trial 97 finished with value: 0.5611790796420706 and parameters: {'n_estimators': 472, 'learning_rate': 0.10833115441686335, 'max_depth': 4}. Best is trial 31 with value: 0.5602241912222061.\n",
      "[I 2024-03-22 01:42:55,743] Trial 98 finished with value: 0.5748207755570903 and parameters: {'n_estimators': 108, 'learning_rate': 0.09749947261563699, 'max_depth': 4}. Best is trial 31 with value: 0.5602241912222061.\n",
      "[I 2024-03-22 01:42:57,613] Trial 99 finished with value: 0.5606711593009118 and parameters: {'n_estimators': 492, 'learning_rate': 0.09035860650330776, 'max_depth': 4}. Best is trial 31 with value: 0.5602241912222061.\n"
     ]
    },
    {
     "name": "stdout",
     "output_type": "stream",
     "text": [
      "Лучшие гиперпараметры: {'n_estimators': 419, 'learning_rate': 0.11059305095260873, 'max_depth': 4}\n",
      "Лучшее значение MSE: -0.5602241912222061\n"
     ]
    }
   ],
   "source": [
    "# # использования Optuna и CV\n",
    "# \n",
    "# import optuna\n",
    "# from xgboost import XGBRegressor\n",
    "# from sklearn.model_selection import cross_val_score\n",
    "# \n",
    "# # Функция для оптимизации\n",
    "# def objective(trial):\n",
    "#     # Гиперпараметры для оптимизации\n",
    "#     n_estimators = trial.suggest_int('n_estimators', 50, 500)\n",
    "#     learning_rate = trial.suggest_float('learning_rate', 0.01, 0.3)\n",
    "#     max_depth = trial.suggest_int('max_depth', 3, 10)\n",
    "#     \n",
    "#     # Создание модели с текущими гиперпараметрами\n",
    "#     model = XGBRegressor(n_estimators=n_estimators, learning_rate=learning_rate, max_depth=max_depth, random_state=42, n_jobs=-1)\n",
    "#     \n",
    "#     # Кросс-валидация\n",
    "#     score = cross_val_score(model, X_scaled, y, cv=5, scoring='neg_root_mean_squared_error')\n",
    "#     \n",
    "#     # Возвращаем среднее значение MSE с отрицательным знаком (так как Optuna минимизирует функцию)\n",
    "#     return -score.mean()\n",
    "# \n",
    "# # Создание Optuna study и запуск оптимизации\n",
    "# study = optuna.create_study(direction='minimize')\n",
    "# study.optimize(objective, n_trials=100)\n",
    "# \n",
    "# # Вывод результатов\n",
    "# print('Лучшие гиперпараметры:', study.best_params)\n",
    "# print('Лучшее значение MSE:', -study.best_value)"
   ],
   "metadata": {
    "collapsed": false,
    "ExecuteTime": {
     "end_time": "2024-03-21T18:42:57.618990200Z",
     "start_time": "2024-03-21T18:39:49.520622Z"
    }
   },
   "id": "3babd5e2e49bf80",
   "execution_count": 175
  },
  {
   "cell_type": "code",
   "outputs": [],
   "source": [
    "# # Градиентный бустинг (XGBoost)\n",
    "# xgboost = XGBRegressor(n_estimators=419, learning_rate=0.11059305095260873, max_depth=4, random_state=42, n_jobs=-1)\n",
    "# xgboost.fit(X_scaled, y)\n",
    "# y_pred_xgb = xgboost.predict(test_scaled)\n",
    "# \n",
    "# # Создание DataFrame с результатами и сохранение\n",
    "# submission_xgb = pd.DataFrame({'id': test.index, 'MedHouseVal': y_pred_xgb})\n",
    "# submission_xgb.to_csv('submission_xgb.csv', index=False)"
   ],
   "metadata": {
    "collapsed": false,
    "ExecuteTime": {
     "end_time": "2024-03-21T18:46:54.859095900Z",
     "start_time": "2024-03-21T18:46:54.508201600Z"
    }
   },
   "id": "d35b21902933325b",
   "execution_count": 176
  },
  {
   "cell_type": "markdown",
   "source": [
    "## Применение K-Fold и ансамбля XGB, LGBM, CatBoost"
   ],
   "metadata": {
    "collapsed": false
   },
   "id": "23a0c40a4859e4ab"
  },
  {
   "cell_type": "code",
   "outputs": [
    {
     "name": "stderr",
     "output_type": "stream",
     "text": [
      "C:\\Users\\user\\AppData\\Local\\Programs\\Python\\Python312\\Lib\\site-packages\\sklearn\\metrics\\_regression.py:483: FutureWarning: 'squared' is deprecated in version 1.4 and will be removed in 1.6. To calculate the root mean squared error, use the function'root_mean_squared_error'.\n",
      "  warnings.warn(\n",
      "C:\\Users\\user\\AppData\\Local\\Programs\\Python\\Python312\\Lib\\site-packages\\sklearn\\metrics\\_regression.py:483: FutureWarning: 'squared' is deprecated in version 1.4 and will be removed in 1.6. To calculate the root mean squared error, use the function'root_mean_squared_error'.\n",
      "  warnings.warn(\n"
     ]
    },
    {
     "name": "stdout",
     "output_type": "stream",
     "text": [
      "[LightGBM] [Info] Auto-choosing col-wise multi-threading, the overhead of testing was 0.000348 seconds.\n",
      "You can set `force_col_wise=true` to remove the overhead.\n",
      "[LightGBM] [Info] Total Bins 1837\n",
      "[LightGBM] [Info] Number of data points in the train set: 31548, number of used features: 8\n",
      "[LightGBM] [Info] Start training from score 2.061842\n"
     ]
    },
    {
     "name": "stderr",
     "output_type": "stream",
     "text": [
      "C:\\Users\\user\\AppData\\Local\\Programs\\Python\\Python312\\Lib\\site-packages\\sklearn\\metrics\\_regression.py:483: FutureWarning: 'squared' is deprecated in version 1.4 and will be removed in 1.6. To calculate the root mean squared error, use the function'root_mean_squared_error'.\n",
      "  warnings.warn(\n",
      "C:\\Users\\user\\AppData\\Local\\Programs\\Python\\Python312\\Lib\\site-packages\\sklearn\\metrics\\_regression.py:483: FutureWarning: 'squared' is deprecated in version 1.4 and will be removed in 1.6. To calculate the root mean squared error, use the function'root_mean_squared_error'.\n",
      "  warnings.warn(\n",
      "C:\\Users\\user\\AppData\\Local\\Programs\\Python\\Python312\\Lib\\site-packages\\sklearn\\metrics\\_regression.py:483: FutureWarning: 'squared' is deprecated in version 1.4 and will be removed in 1.6. To calculate the root mean squared error, use the function'root_mean_squared_error'.\n",
      "  warnings.warn(\n"
     ]
    },
    {
     "name": "stdout",
     "output_type": "stream",
     "text": [
      "[LightGBM] [Info] Auto-choosing col-wise multi-threading, the overhead of testing was 0.000358 seconds.\n",
      "You can set `force_col_wise=true` to remove the overhead.\n",
      "[LightGBM] [Info] Total Bins 1837\n",
      "[LightGBM] [Info] Number of data points in the train set: 31548, number of used features: 8\n",
      "[LightGBM] [Info] Start training from score 2.059184\n"
     ]
    },
    {
     "name": "stderr",
     "output_type": "stream",
     "text": [
      "C:\\Users\\user\\AppData\\Local\\Programs\\Python\\Python312\\Lib\\site-packages\\sklearn\\metrics\\_regression.py:483: FutureWarning: 'squared' is deprecated in version 1.4 and will be removed in 1.6. To calculate the root mean squared error, use the function'root_mean_squared_error'.\n",
      "  warnings.warn(\n",
      "C:\\Users\\user\\AppData\\Local\\Programs\\Python\\Python312\\Lib\\site-packages\\sklearn\\metrics\\_regression.py:483: FutureWarning: 'squared' is deprecated in version 1.4 and will be removed in 1.6. To calculate the root mean squared error, use the function'root_mean_squared_error'.\n",
      "  warnings.warn(\n",
      "C:\\Users\\user\\AppData\\Local\\Programs\\Python\\Python312\\Lib\\site-packages\\sklearn\\metrics\\_regression.py:483: FutureWarning: 'squared' is deprecated in version 1.4 and will be removed in 1.6. To calculate the root mean squared error, use the function'root_mean_squared_error'.\n",
      "  warnings.warn(\n"
     ]
    },
    {
     "name": "stdout",
     "output_type": "stream",
     "text": [
      "[LightGBM] [Info] Auto-choosing col-wise multi-threading, the overhead of testing was 0.000344 seconds.\n",
      "You can set `force_col_wise=true` to remove the overhead.\n",
      "[LightGBM] [Info] Total Bins 1837\n",
      "[LightGBM] [Info] Number of data points in the train set: 31548, number of used features: 8\n",
      "[LightGBM] [Info] Start training from score 2.059357\n"
     ]
    },
    {
     "name": "stderr",
     "output_type": "stream",
     "text": [
      "C:\\Users\\user\\AppData\\Local\\Programs\\Python\\Python312\\Lib\\site-packages\\sklearn\\metrics\\_regression.py:483: FutureWarning: 'squared' is deprecated in version 1.4 and will be removed in 1.6. To calculate the root mean squared error, use the function'root_mean_squared_error'.\n",
      "  warnings.warn(\n",
      "C:\\Users\\user\\AppData\\Local\\Programs\\Python\\Python312\\Lib\\site-packages\\sklearn\\metrics\\_regression.py:483: FutureWarning: 'squared' is deprecated in version 1.4 and will be removed in 1.6. To calculate the root mean squared error, use the function'root_mean_squared_error'.\n",
      "  warnings.warn(\n",
      "C:\\Users\\user\\AppData\\Local\\Programs\\Python\\Python312\\Lib\\site-packages\\sklearn\\metrics\\_regression.py:483: FutureWarning: 'squared' is deprecated in version 1.4 and will be removed in 1.6. To calculate the root mean squared error, use the function'root_mean_squared_error'.\n",
      "  warnings.warn(\n"
     ]
    },
    {
     "name": "stdout",
     "output_type": "stream",
     "text": [
      "[LightGBM] [Info] Auto-choosing col-wise multi-threading, the overhead of testing was 0.000403 seconds.\n",
      "You can set `force_col_wise=true` to remove the overhead.\n",
      "[LightGBM] [Info] Total Bins 1837\n",
      "[LightGBM] [Info] Number of data points in the train set: 31548, number of used features: 8\n",
      "[LightGBM] [Info] Start training from score 2.061818\n"
     ]
    },
    {
     "name": "stderr",
     "output_type": "stream",
     "text": [
      "C:\\Users\\user\\AppData\\Local\\Programs\\Python\\Python312\\Lib\\site-packages\\sklearn\\metrics\\_regression.py:483: FutureWarning: 'squared' is deprecated in version 1.4 and will be removed in 1.6. To calculate the root mean squared error, use the function'root_mean_squared_error'.\n",
      "  warnings.warn(\n",
      "C:\\Users\\user\\AppData\\Local\\Programs\\Python\\Python312\\Lib\\site-packages\\sklearn\\metrics\\_regression.py:483: FutureWarning: 'squared' is deprecated in version 1.4 and will be removed in 1.6. To calculate the root mean squared error, use the function'root_mean_squared_error'.\n",
      "  warnings.warn(\n",
      "C:\\Users\\user\\AppData\\Local\\Programs\\Python\\Python312\\Lib\\site-packages\\sklearn\\metrics\\_regression.py:483: FutureWarning: 'squared' is deprecated in version 1.4 and will be removed in 1.6. To calculate the root mean squared error, use the function'root_mean_squared_error'.\n",
      "  warnings.warn(\n"
     ]
    },
    {
     "name": "stdout",
     "output_type": "stream",
     "text": [
      "[LightGBM] [Info] Auto-choosing col-wise multi-threading, the overhead of testing was 0.000340 seconds.\n",
      "You can set `force_col_wise=true` to remove the overhead.\n",
      "[LightGBM] [Info] Total Bins 1837\n",
      "[LightGBM] [Info] Number of data points in the train set: 31549, number of used features: 8\n",
      "[LightGBM] [Info] Start training from score 2.058061\n"
     ]
    },
    {
     "name": "stderr",
     "output_type": "stream",
     "text": [
      "C:\\Users\\user\\AppData\\Local\\Programs\\Python\\Python312\\Lib\\site-packages\\sklearn\\metrics\\_regression.py:483: FutureWarning: 'squared' is deprecated in version 1.4 and will be removed in 1.6. To calculate the root mean squared error, use the function'root_mean_squared_error'.\n",
      "  warnings.warn(\n",
      "C:\\Users\\user\\AppData\\Local\\Programs\\Python\\Python312\\Lib\\site-packages\\sklearn\\metrics\\_regression.py:483: FutureWarning: 'squared' is deprecated in version 1.4 and will be removed in 1.6. To calculate the root mean squared error, use the function'root_mean_squared_error'.\n",
      "  warnings.warn(\n",
      "C:\\Users\\user\\AppData\\Local\\Programs\\Python\\Python312\\Lib\\site-packages\\sklearn\\metrics\\_regression.py:483: FutureWarning: 'squared' is deprecated in version 1.4 and will be removed in 1.6. To calculate the root mean squared error, use the function'root_mean_squared_error'.\n",
      "  warnings.warn(\n"
     ]
    },
    {
     "name": "stdout",
     "output_type": "stream",
     "text": [
      "[LightGBM] [Info] Auto-choosing col-wise multi-threading, the overhead of testing was 0.000333 seconds.\n",
      "You can set `force_col_wise=true` to remove the overhead.\n",
      "[LightGBM] [Info] Total Bins 1837\n",
      "[LightGBM] [Info] Number of data points in the train set: 31549, number of used features: 8\n",
      "[LightGBM] [Info] Start training from score 2.062143\n"
     ]
    },
    {
     "name": "stderr",
     "output_type": "stream",
     "text": [
      "C:\\Users\\user\\AppData\\Local\\Programs\\Python\\Python312\\Lib\\site-packages\\sklearn\\metrics\\_regression.py:483: FutureWarning: 'squared' is deprecated in version 1.4 and will be removed in 1.6. To calculate the root mean squared error, use the function'root_mean_squared_error'.\n",
      "  warnings.warn(\n",
      "C:\\Users\\user\\AppData\\Local\\Programs\\Python\\Python312\\Lib\\site-packages\\sklearn\\metrics\\_regression.py:483: FutureWarning: 'squared' is deprecated in version 1.4 and will be removed in 1.6. To calculate the root mean squared error, use the function'root_mean_squared_error'.\n",
      "  warnings.warn(\n",
      "C:\\Users\\user\\AppData\\Local\\Programs\\Python\\Python312\\Lib\\site-packages\\sklearn\\metrics\\_regression.py:483: FutureWarning: 'squared' is deprecated in version 1.4 and will be removed in 1.6. To calculate the root mean squared error, use the function'root_mean_squared_error'.\n",
      "  warnings.warn(\n"
     ]
    },
    {
     "name": "stdout",
     "output_type": "stream",
     "text": [
      "[LightGBM] [Info] Auto-choosing col-wise multi-threading, the overhead of testing was 0.000342 seconds.\n",
      "You can set `force_col_wise=true` to remove the overhead.\n",
      "[LightGBM] [Info] Total Bins 1837\n",
      "[LightGBM] [Info] Number of data points in the train set: 31549, number of used features: 8\n",
      "[LightGBM] [Info] Start training from score 2.062100\n"
     ]
    },
    {
     "name": "stderr",
     "output_type": "stream",
     "text": [
      "C:\\Users\\user\\AppData\\Local\\Programs\\Python\\Python312\\Lib\\site-packages\\sklearn\\metrics\\_regression.py:483: FutureWarning: 'squared' is deprecated in version 1.4 and will be removed in 1.6. To calculate the root mean squared error, use the function'root_mean_squared_error'.\n",
      "  warnings.warn(\n",
      "C:\\Users\\user\\AppData\\Local\\Programs\\Python\\Python312\\Lib\\site-packages\\sklearn\\metrics\\_regression.py:483: FutureWarning: 'squared' is deprecated in version 1.4 and will be removed in 1.6. To calculate the root mean squared error, use the function'root_mean_squared_error'.\n",
      "  warnings.warn(\n",
      "C:\\Users\\user\\AppData\\Local\\Programs\\Python\\Python312\\Lib\\site-packages\\sklearn\\metrics\\_regression.py:483: FutureWarning: 'squared' is deprecated in version 1.4 and will be removed in 1.6. To calculate the root mean squared error, use the function'root_mean_squared_error'.\n",
      "  warnings.warn(\n"
     ]
    },
    {
     "name": "stdout",
     "output_type": "stream",
     "text": [
      "[LightGBM] [Info] Auto-choosing col-wise multi-threading, the overhead of testing was 0.000379 seconds.\n",
      "You can set `force_col_wise=true` to remove the overhead.\n",
      "[LightGBM] [Info] Total Bins 1837\n",
      "[LightGBM] [Info] Number of data points in the train set: 31549, number of used features: 8\n",
      "[LightGBM] [Info] Start training from score 2.058971\n"
     ]
    },
    {
     "name": "stderr",
     "output_type": "stream",
     "text": [
      "C:\\Users\\user\\AppData\\Local\\Programs\\Python\\Python312\\Lib\\site-packages\\sklearn\\metrics\\_regression.py:483: FutureWarning: 'squared' is deprecated in version 1.4 and will be removed in 1.6. To calculate the root mean squared error, use the function'root_mean_squared_error'.\n",
      "  warnings.warn(\n",
      "C:\\Users\\user\\AppData\\Local\\Programs\\Python\\Python312\\Lib\\site-packages\\sklearn\\metrics\\_regression.py:483: FutureWarning: 'squared' is deprecated in version 1.4 and will be removed in 1.6. To calculate the root mean squared error, use the function'root_mean_squared_error'.\n",
      "  warnings.warn(\n",
      "C:\\Users\\user\\AppData\\Local\\Programs\\Python\\Python312\\Lib\\site-packages\\sklearn\\metrics\\_regression.py:483: FutureWarning: 'squared' is deprecated in version 1.4 and will be removed in 1.6. To calculate the root mean squared error, use the function'root_mean_squared_error'.\n",
      "  warnings.warn(\n"
     ]
    },
    {
     "name": "stdout",
     "output_type": "stream",
     "text": [
      "[LightGBM] [Info] Auto-choosing col-wise multi-threading, the overhead of testing was 0.000343 seconds.\n",
      "You can set `force_col_wise=true` to remove the overhead.\n",
      "[LightGBM] [Info] Total Bins 1837\n",
      "[LightGBM] [Info] Number of data points in the train set: 31549, number of used features: 8\n",
      "[LightGBM] [Info] Start training from score 2.058944\n"
     ]
    },
    {
     "name": "stderr",
     "output_type": "stream",
     "text": [
      "C:\\Users\\user\\AppData\\Local\\Programs\\Python\\Python312\\Lib\\site-packages\\sklearn\\metrics\\_regression.py:483: FutureWarning: 'squared' is deprecated in version 1.4 and will be removed in 1.6. To calculate the root mean squared error, use the function'root_mean_squared_error'.\n",
      "  warnings.warn(\n",
      "C:\\Users\\user\\AppData\\Local\\Programs\\Python\\Python312\\Lib\\site-packages\\sklearn\\metrics\\_regression.py:483: FutureWarning: 'squared' is deprecated in version 1.4 and will be removed in 1.6. To calculate the root mean squared error, use the function'root_mean_squared_error'.\n",
      "  warnings.warn(\n",
      "C:\\Users\\user\\AppData\\Local\\Programs\\Python\\Python312\\Lib\\site-packages\\sklearn\\metrics\\_regression.py:483: FutureWarning: 'squared' is deprecated in version 1.4 and will be removed in 1.6. To calculate the root mean squared error, use the function'root_mean_squared_error'.\n",
      "  warnings.warn(\n"
     ]
    },
    {
     "name": "stdout",
     "output_type": "stream",
     "text": [
      "[LightGBM] [Info] Auto-choosing col-wise multi-threading, the overhead of testing was 0.000363 seconds.\n",
      "You can set `force_col_wise=true` to remove the overhead.\n",
      "[LightGBM] [Info] Total Bins 1837\n",
      "[LightGBM] [Info] Number of data points in the train set: 31549, number of used features: 8\n",
      "[LightGBM] [Info] Start training from score 2.058243\n",
      "XGBoost RMSE: 0.5605709655156279\n",
      "LightGBM RMSE: 0.5605098401920259\n",
      "CatBoost RMSE: 0.5798357365377858\n"
     ]
    },
    {
     "name": "stderr",
     "output_type": "stream",
     "text": [
      "C:\\Users\\user\\AppData\\Local\\Programs\\Python\\Python312\\Lib\\site-packages\\sklearn\\metrics\\_regression.py:483: FutureWarning: 'squared' is deprecated in version 1.4 and will be removed in 1.6. To calculate the root mean squared error, use the function'root_mean_squared_error'.\n",
      "  warnings.warn(\n"
     ]
    }
   ],
   "source": [
    "from xgboost import XGBRegressor\n",
    "from sklearn.metrics import mean_squared_error\n",
    "from sklearn.model_selection import KFold\n",
    "from lightgbm import LGBMRegressor\n",
    "from catboost import CatBoostRegressor\n",
    "\n",
    "# Количество фолдов для кросс-валидации\n",
    "n_splits = 10\n",
    "\n",
    "# Создание объекта KFold\n",
    "kf = KFold(n_splits=n_splits, shuffle=True, random_state=42)\n",
    "\n",
    "# Список для хранения средних RMSE каждой модели\n",
    "rmse_scores = {'XGBoost': [], 'LightGBM': [], 'CatBoost': []}\n",
    "\n",
    "# Перебор различных разбиений данных\n",
    "for train_index, test_index in kf.split(X_scaled):\n",
    "    X_train, X_test = X_scaled.iloc[train_index], X_scaled.iloc[test_index]\n",
    "    y_train, y_test = y.iloc[train_index], y.iloc[test_index]\n",
    "\n",
    "    # XGBoost\n",
    "    xgb_model = XGBRegressor(n_estimators=419, learning_rate=0.11059305095260873, max_depth=4, random_state=42, n_jobs=-1)\n",
    "    xgb_model.fit(X_train, y_train)\n",
    "    y_pred_xgb = xgb_model.predict(X_test)\n",
    "    rmse_scores['XGBoost'].append(mean_squared_error(y_test, y_pred_xgb, squared=False))\n",
    "\n",
    "    # LightGBM\n",
    "    lgbm_model = LGBMRegressor(n_estimators=100, learning_rate=0.1, max_depth=-1, random_state=42)\n",
    "    lgbm_model.fit(X_train, y_train)\n",
    "    y_pred_lgbm = lgbm_model.predict(X_test)\n",
    "    rmse_scores['LightGBM'].append(mean_squared_error(y_test, y_pred_lgbm, squared=False))\n",
    "\n",
    "    # CatBoost\n",
    "    catboost_model = CatBoostRegressor(iterations=100, learning_rate=0.1, depth=6, random_seed=42, verbose=False)\n",
    "    catboost_model.fit(X_train, y_train)\n",
    "    y_pred_catboost = catboost_model.predict(X_test)\n",
    "    rmse_scores['CatBoost'].append(mean_squared_error(y_test, y_pred_catboost, squared=False))\n",
    "\n",
    "# Вывод средних RMSE для каждой модели\n",
    "for model, scores in rmse_scores.items():\n",
    "    print(f'{model} RMSE: {np.mean(scores)}')"
   ],
   "metadata": {
    "collapsed": false,
    "ExecuteTime": {
     "end_time": "2024-03-22T04:51:30.160899Z",
     "start_time": "2024-03-22T04:51:23.109063400Z"
    }
   },
   "id": "a5759cfcbf0ceb8c",
   "execution_count": 199
  },
  {
   "cell_type": "markdown",
   "source": [
    "## Обучение на всем наборе данных"
   ],
   "metadata": {
    "collapsed": false
   },
   "id": "6b787b65bd34430d"
  },
  {
   "cell_type": "code",
   "outputs": [
    {
     "name": "stdout",
     "output_type": "stream",
     "text": [
      "[LightGBM] [Info] Auto-choosing col-wise multi-threading, the overhead of testing was 0.000429 seconds.\n",
      "You can set `force_col_wise=true` to remove the overhead.\n",
      "[LightGBM] [Info] Total Bins 1837\n",
      "[LightGBM] [Info] Number of data points in the train set: 35054, number of used features: 8\n",
      "[LightGBM] [Info] Start training from score 2.060066\n"
     ]
    },
    {
     "data": {
      "text/plain": "<catboost.core.CatBoostRegressor at 0x2255510cfb0>"
     },
     "execution_count": 200,
     "metadata": {},
     "output_type": "execute_result"
    }
   ],
   "source": [
    "## Обучение моделей на всем тренировочном наборе:\n",
    "# Обучение XGBoost\n",
    "xgb_model_full = XGBRegressor(n_estimators=419, learning_rate=0.11059305095260873, max_depth=4, random_state=42, n_jobs=-1)\n",
    "xgb_model_full.fit(X_scaled, y)\n",
    "\n",
    "# Обучение LightGBM\n",
    "lgbm_model_full = LGBMRegressor(n_estimators=100, learning_rate=0.1, max_depth=-1, random_state=42)\n",
    "lgbm_model_full.fit(X_scaled, y)\n",
    "\n",
    "# Обучение CatBoost\n",
    "catboost_model_full = CatBoostRegressor(iterations=100, learning_rate=0.1, depth=6, random_seed=42, verbose=False)\n",
    "catboost_model_full.fit(X_scaled, y)"
   ],
   "metadata": {
    "collapsed": false,
    "ExecuteTime": {
     "end_time": "2024-03-22T05:17:58.761177800Z",
     "start_time": "2024-03-22T05:17:58.107897200Z"
    }
   },
   "id": "ab94fd93032a8880",
   "execution_count": 200
  },
  {
   "cell_type": "code",
   "outputs": [],
   "source": [
    "# Предсказания на тестовом наборе и ансамблирование:\n",
    "# Предсказания моделей на тестовом наборе\n",
    "y_pred_xgb_full = xgb_model_full.predict(test_scaled)\n",
    "y_pred_lgbm_full = lgbm_model_full.predict(test_scaled)\n",
    "y_pred_catboost_full = catboost_model_full.predict(test_scaled)\n",
    "\n",
    "# Усреднение предсказаний\n",
    "y_pred_ensemble = (y_pred_xgb_full + y_pred_lgbm_full + y_pred_catboost_full) / 3"
   ],
   "metadata": {
    "collapsed": false,
    "ExecuteTime": {
     "end_time": "2024-03-22T05:18:05.094229Z",
     "start_time": "2024-03-22T05:18:05.047755900Z"
    }
   },
   "id": "a52ea65f9037f9f6",
   "execution_count": 201
  },
  {
   "cell_type": "code",
   "outputs": [],
   "source": [
    "# Создание DataFrame с результатами и сохранение\n",
    "submission_ensemble = pd.DataFrame({'id': test.index, 'MedHouseVal': y_pred_ensemble})\n",
    "submission_ensemble.to_csv('submission_ensemble.csv', index=False)"
   ],
   "metadata": {
    "collapsed": false,
    "ExecuteTime": {
     "end_time": "2024-03-22T05:18:06.090680200Z",
     "start_time": "2024-03-22T05:18:06.059351700Z"
    }
   },
   "id": "b2222c73fb24a08d",
   "execution_count": 202
  },
  {
   "cell_type": "code",
   "outputs": [],
   "source": [],
   "metadata": {
    "collapsed": false
   },
   "id": "f30d22e1197da973"
  },
  {
   "cell_type": "code",
   "outputs": [],
   "source": [],
   "metadata": {
    "collapsed": false
   },
   "id": "6006f174af87bfd9"
  },
  {
   "cell_type": "code",
   "outputs": [],
   "source": [],
   "metadata": {
    "collapsed": false
   },
   "id": "ac7e3dd1f58ce55b"
  },
  {
   "cell_type": "code",
   "outputs": [],
   "source": [],
   "metadata": {
    "collapsed": false
   },
   "id": "cd49039d64cf515e"
  },
  {
   "cell_type": "code",
   "outputs": [],
   "source": [],
   "metadata": {
    "collapsed": false
   },
   "id": "6dd1bc78cf6136c7"
  },
  {
   "cell_type": "code",
   "outputs": [],
   "source": [],
   "metadata": {
    "collapsed": false
   },
   "id": "6634cd41fe19cf90"
  },
  {
   "cell_type": "code",
   "outputs": [],
   "source": [],
   "metadata": {
    "collapsed": false
   },
   "id": "9b7097168bbb420"
  },
  {
   "cell_type": "code",
   "outputs": [],
   "source": [],
   "metadata": {
    "collapsed": false
   },
   "id": "ead1215437c55b8b"
  },
  {
   "cell_type": "code",
   "outputs": [],
   "source": [],
   "metadata": {
    "collapsed": false
   },
   "id": "b52fef3e7711a8c"
  },
  {
   "cell_type": "code",
   "outputs": [],
   "source": [],
   "metadata": {
    "collapsed": false
   },
   "id": "fb288292e646d749"
  },
  {
   "cell_type": "code",
   "outputs": [],
   "source": [],
   "metadata": {
    "collapsed": false
   },
   "id": "b84b9d4eae18b108"
  }
 ],
 "metadata": {
  "kernelspec": {
   "display_name": "Python 3",
   "language": "python",
   "name": "python3"
  },
  "language_info": {
   "codemirror_mode": {
    "name": "ipython",
    "version": 2
   },
   "file_extension": ".py",
   "mimetype": "text/x-python",
   "name": "python",
   "nbconvert_exporter": "python",
   "pygments_lexer": "ipython2",
   "version": "2.7.6"
  }
 },
 "nbformat": 4,
 "nbformat_minor": 5
}
